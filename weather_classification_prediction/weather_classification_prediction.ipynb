{
  "nbformat": 4,
  "nbformat_minor": 0,
  "metadata": {
    "colab": {
      "provenance": []
    },
    "kernelspec": {
      "name": "python3",
      "display_name": "Python 3"
    },
    "language_info": {
      "name": "python"
    }
  },
  "cells": [
    {
      "cell_type": "code",
      "execution_count": null,
      "metadata": {
        "id": "mabC0FKh0yvA"
      },
      "outputs": [],
      "source": [
        "import pandas as pd\n",
        "import numpy as np"
      ]
    },
    {
      "cell_type": "code",
      "source": [
        "df_train = pd.read_csv('weather_train.csv')\n",
        "print(len(df_train))\n",
        "df_test = pd.read_csv('weather_test.csv')\n",
        "df_test.drop(columns = ['Unnamed: 0'], inplace = True)\n",
        "df_train = pd.concat([df_train, df_test], axis = 0)"
      ],
      "metadata": {
        "colab": {
          "base_uri": "https://localhost:8080/"
        },
        "id": "ATzCgMJ501xn",
        "outputId": "2c9b9e88-01a0-4a0a-8141-88fcf32a66b1"
      },
      "execution_count": null,
      "outputs": [
        {
          "output_type": "stream",
          "name": "stdout",
          "text": [
            "158131\n"
          ]
        }
      ]
    },
    {
      "cell_type": "code",
      "source": [
        "df_train.dropna(inplace = True)"
      ],
      "metadata": {
        "id": "HEJ728Hv1Cug"
      },
      "execution_count": null,
      "outputs": []
    },
    {
      "cell_type": "code",
      "source": [
        "df_train[df_train['snow_3h']!=0]"
      ],
      "metadata": {
        "colab": {
          "base_uri": "https://localhost:8080/",
          "height": 617
        },
        "id": "KilNLerg1Dmf",
        "outputId": "45b0595d-31fe-40af-e67a-b45158f2653c"
      },
      "execution_count": null,
      "outputs": [
        {
          "output_type": "execute_result",
          "data": {
            "text/plain": [
              "                           dt_iso city_name        temp    temp_min  \\\n",
              "2600    2015-03-23 11:00:00+01:00    Bilbao  276.356000  276.356000   \n",
              "2926    2015-01-20 04:00:00+01:00    Bilbao  275.203000  275.203000   \n",
              "6250    2015-02-04 20:00:00+01:00    Bilbao  274.826656  274.826656   \n",
              "10148   2015-02-08 16:00:00+01:00    Bilbao  277.219500  277.219500   \n",
              "11016   2015-02-01 09:00:00+01:00    Bilbao  276.367344  276.367344   \n",
              "...                           ...       ...         ...         ...   \n",
              "152628  2015-02-03 10:00:00+01:00    Bilbao  276.557500  276.557500   \n",
              "153808  2015-02-02 03:00:00+01:00    Bilbao  276.382656  276.382656   \n",
              "154633  2015-02-04 06:00:00+01:00    Bilbao  273.317000  273.317000   \n",
              "157078  2015-01-22 10:00:00+01:00    Bilbao  277.648000  277.648000   \n",
              "157587  2015-02-04 13:00:00+01:00  Valencia  280.050000  280.050000   \n",
              "\n",
              "          temp_max  pressure  humidity  wind_speed  wind_deg  rain_1h  \\\n",
              "2600    276.356000      1012        98           0       147      0.9   \n",
              "2926    275.203000      1012        97           1       198      0.3   \n",
              "6250    274.826656      1014        90           3        13      0.3   \n",
              "10148   277.219500      1031        82           2        21      0.3   \n",
              "11016   276.367344      1010        92           4       314      0.9   \n",
              "...            ...       ...       ...         ...       ...      ...   \n",
              "152628  276.557500      1004        94           1       281      0.9   \n",
              "153808  276.382656      1012        96           1       250      0.3   \n",
              "154633  273.317000      1006        97           1       119      0.3   \n",
              "157078  277.648000      1013        96           2       343      3.0   \n",
              "157587  280.050000      1000        36          11       349      0.3   \n",
              "\n",
              "        rain_3h  snow_3h  clouds_all  weather_id weather_main  \\\n",
              "2600        0.0    2.746          92         501         rain   \n",
              "2926        0.0    0.200          88         500         rain   \n",
              "6250        0.0   20.900          89         500         rain   \n",
              "10148       0.0    0.200          78         500         rain   \n",
              "11016       0.0    0.550          92         501         rain   \n",
              "...         ...      ...         ...         ...          ...   \n",
              "152628      0.0    1.100          84         501         rain   \n",
              "153808      0.0    0.050          84         500         rain   \n",
              "154633      0.0    3.900          88         500         rain   \n",
              "157078      0.0    2.700          92         502         rain   \n",
              "157587      0.0    1.125          92         500         rain   \n",
              "\n",
              "         weather_description weather_icon  \n",
              "2600           moderate rain           10  \n",
              "2926              light rain           10  \n",
              "6250              light rain           10  \n",
              "10148             light rain           10  \n",
              "11016          moderate rain           10  \n",
              "...                      ...          ...  \n",
              "152628         moderate rain           10  \n",
              "153808            light rain           10  \n",
              "154633            light rain           10  \n",
              "157078  heavy intensity rain           10  \n",
              "157587            light rain          10d  \n",
              "\n",
              "[216 rows x 17 columns]"
            ],
            "text/html": [
              "\n",
              "  <div id=\"df-6b68b031-ad32-4f45-9807-61f7d514c1fd\" class=\"colab-df-container\">\n",
              "    <div>\n",
              "<style scoped>\n",
              "    .dataframe tbody tr th:only-of-type {\n",
              "        vertical-align: middle;\n",
              "    }\n",
              "\n",
              "    .dataframe tbody tr th {\n",
              "        vertical-align: top;\n",
              "    }\n",
              "\n",
              "    .dataframe thead th {\n",
              "        text-align: right;\n",
              "    }\n",
              "</style>\n",
              "<table border=\"1\" class=\"dataframe\">\n",
              "  <thead>\n",
              "    <tr style=\"text-align: right;\">\n",
              "      <th></th>\n",
              "      <th>dt_iso</th>\n",
              "      <th>city_name</th>\n",
              "      <th>temp</th>\n",
              "      <th>temp_min</th>\n",
              "      <th>temp_max</th>\n",
              "      <th>pressure</th>\n",
              "      <th>humidity</th>\n",
              "      <th>wind_speed</th>\n",
              "      <th>wind_deg</th>\n",
              "      <th>rain_1h</th>\n",
              "      <th>rain_3h</th>\n",
              "      <th>snow_3h</th>\n",
              "      <th>clouds_all</th>\n",
              "      <th>weather_id</th>\n",
              "      <th>weather_main</th>\n",
              "      <th>weather_description</th>\n",
              "      <th>weather_icon</th>\n",
              "    </tr>\n",
              "  </thead>\n",
              "  <tbody>\n",
              "    <tr>\n",
              "      <th>2600</th>\n",
              "      <td>2015-03-23 11:00:00+01:00</td>\n",
              "      <td>Bilbao</td>\n",
              "      <td>276.356000</td>\n",
              "      <td>276.356000</td>\n",
              "      <td>276.356000</td>\n",
              "      <td>1012</td>\n",
              "      <td>98</td>\n",
              "      <td>0</td>\n",
              "      <td>147</td>\n",
              "      <td>0.9</td>\n",
              "      <td>0.0</td>\n",
              "      <td>2.746</td>\n",
              "      <td>92</td>\n",
              "      <td>501</td>\n",
              "      <td>rain</td>\n",
              "      <td>moderate rain</td>\n",
              "      <td>10</td>\n",
              "    </tr>\n",
              "    <tr>\n",
              "      <th>2926</th>\n",
              "      <td>2015-01-20 04:00:00+01:00</td>\n",
              "      <td>Bilbao</td>\n",
              "      <td>275.203000</td>\n",
              "      <td>275.203000</td>\n",
              "      <td>275.203000</td>\n",
              "      <td>1012</td>\n",
              "      <td>97</td>\n",
              "      <td>1</td>\n",
              "      <td>198</td>\n",
              "      <td>0.3</td>\n",
              "      <td>0.0</td>\n",
              "      <td>0.200</td>\n",
              "      <td>88</td>\n",
              "      <td>500</td>\n",
              "      <td>rain</td>\n",
              "      <td>light rain</td>\n",
              "      <td>10</td>\n",
              "    </tr>\n",
              "    <tr>\n",
              "      <th>6250</th>\n",
              "      <td>2015-02-04 20:00:00+01:00</td>\n",
              "      <td>Bilbao</td>\n",
              "      <td>274.826656</td>\n",
              "      <td>274.826656</td>\n",
              "      <td>274.826656</td>\n",
              "      <td>1014</td>\n",
              "      <td>90</td>\n",
              "      <td>3</td>\n",
              "      <td>13</td>\n",
              "      <td>0.3</td>\n",
              "      <td>0.0</td>\n",
              "      <td>20.900</td>\n",
              "      <td>89</td>\n",
              "      <td>500</td>\n",
              "      <td>rain</td>\n",
              "      <td>light rain</td>\n",
              "      <td>10</td>\n",
              "    </tr>\n",
              "    <tr>\n",
              "      <th>10148</th>\n",
              "      <td>2015-02-08 16:00:00+01:00</td>\n",
              "      <td>Bilbao</td>\n",
              "      <td>277.219500</td>\n",
              "      <td>277.219500</td>\n",
              "      <td>277.219500</td>\n",
              "      <td>1031</td>\n",
              "      <td>82</td>\n",
              "      <td>2</td>\n",
              "      <td>21</td>\n",
              "      <td>0.3</td>\n",
              "      <td>0.0</td>\n",
              "      <td>0.200</td>\n",
              "      <td>78</td>\n",
              "      <td>500</td>\n",
              "      <td>rain</td>\n",
              "      <td>light rain</td>\n",
              "      <td>10</td>\n",
              "    </tr>\n",
              "    <tr>\n",
              "      <th>11016</th>\n",
              "      <td>2015-02-01 09:00:00+01:00</td>\n",
              "      <td>Bilbao</td>\n",
              "      <td>276.367344</td>\n",
              "      <td>276.367344</td>\n",
              "      <td>276.367344</td>\n",
              "      <td>1010</td>\n",
              "      <td>92</td>\n",
              "      <td>4</td>\n",
              "      <td>314</td>\n",
              "      <td>0.9</td>\n",
              "      <td>0.0</td>\n",
              "      <td>0.550</td>\n",
              "      <td>92</td>\n",
              "      <td>501</td>\n",
              "      <td>rain</td>\n",
              "      <td>moderate rain</td>\n",
              "      <td>10</td>\n",
              "    </tr>\n",
              "    <tr>\n",
              "      <th>...</th>\n",
              "      <td>...</td>\n",
              "      <td>...</td>\n",
              "      <td>...</td>\n",
              "      <td>...</td>\n",
              "      <td>...</td>\n",
              "      <td>...</td>\n",
              "      <td>...</td>\n",
              "      <td>...</td>\n",
              "      <td>...</td>\n",
              "      <td>...</td>\n",
              "      <td>...</td>\n",
              "      <td>...</td>\n",
              "      <td>...</td>\n",
              "      <td>...</td>\n",
              "      <td>...</td>\n",
              "      <td>...</td>\n",
              "      <td>...</td>\n",
              "    </tr>\n",
              "    <tr>\n",
              "      <th>152628</th>\n",
              "      <td>2015-02-03 10:00:00+01:00</td>\n",
              "      <td>Bilbao</td>\n",
              "      <td>276.557500</td>\n",
              "      <td>276.557500</td>\n",
              "      <td>276.557500</td>\n",
              "      <td>1004</td>\n",
              "      <td>94</td>\n",
              "      <td>1</td>\n",
              "      <td>281</td>\n",
              "      <td>0.9</td>\n",
              "      <td>0.0</td>\n",
              "      <td>1.100</td>\n",
              "      <td>84</td>\n",
              "      <td>501</td>\n",
              "      <td>rain</td>\n",
              "      <td>moderate rain</td>\n",
              "      <td>10</td>\n",
              "    </tr>\n",
              "    <tr>\n",
              "      <th>153808</th>\n",
              "      <td>2015-02-02 03:00:00+01:00</td>\n",
              "      <td>Bilbao</td>\n",
              "      <td>276.382656</td>\n",
              "      <td>276.382656</td>\n",
              "      <td>276.382656</td>\n",
              "      <td>1012</td>\n",
              "      <td>96</td>\n",
              "      <td>1</td>\n",
              "      <td>250</td>\n",
              "      <td>0.3</td>\n",
              "      <td>0.0</td>\n",
              "      <td>0.050</td>\n",
              "      <td>84</td>\n",
              "      <td>500</td>\n",
              "      <td>rain</td>\n",
              "      <td>light rain</td>\n",
              "      <td>10</td>\n",
              "    </tr>\n",
              "    <tr>\n",
              "      <th>154633</th>\n",
              "      <td>2015-02-04 06:00:00+01:00</td>\n",
              "      <td>Bilbao</td>\n",
              "      <td>273.317000</td>\n",
              "      <td>273.317000</td>\n",
              "      <td>273.317000</td>\n",
              "      <td>1006</td>\n",
              "      <td>97</td>\n",
              "      <td>1</td>\n",
              "      <td>119</td>\n",
              "      <td>0.3</td>\n",
              "      <td>0.0</td>\n",
              "      <td>3.900</td>\n",
              "      <td>88</td>\n",
              "      <td>500</td>\n",
              "      <td>rain</td>\n",
              "      <td>light rain</td>\n",
              "      <td>10</td>\n",
              "    </tr>\n",
              "    <tr>\n",
              "      <th>157078</th>\n",
              "      <td>2015-01-22 10:00:00+01:00</td>\n",
              "      <td>Bilbao</td>\n",
              "      <td>277.648000</td>\n",
              "      <td>277.648000</td>\n",
              "      <td>277.648000</td>\n",
              "      <td>1013</td>\n",
              "      <td>96</td>\n",
              "      <td>2</td>\n",
              "      <td>343</td>\n",
              "      <td>3.0</td>\n",
              "      <td>0.0</td>\n",
              "      <td>2.700</td>\n",
              "      <td>92</td>\n",
              "      <td>502</td>\n",
              "      <td>rain</td>\n",
              "      <td>heavy intensity rain</td>\n",
              "      <td>10</td>\n",
              "    </tr>\n",
              "    <tr>\n",
              "      <th>157587</th>\n",
              "      <td>2015-02-04 13:00:00+01:00</td>\n",
              "      <td>Valencia</td>\n",
              "      <td>280.050000</td>\n",
              "      <td>280.050000</td>\n",
              "      <td>280.050000</td>\n",
              "      <td>1000</td>\n",
              "      <td>36</td>\n",
              "      <td>11</td>\n",
              "      <td>349</td>\n",
              "      <td>0.3</td>\n",
              "      <td>0.0</td>\n",
              "      <td>1.125</td>\n",
              "      <td>92</td>\n",
              "      <td>500</td>\n",
              "      <td>rain</td>\n",
              "      <td>light rain</td>\n",
              "      <td>10d</td>\n",
              "    </tr>\n",
              "  </tbody>\n",
              "</table>\n",
              "<p>216 rows × 17 columns</p>\n",
              "</div>\n",
              "    <div class=\"colab-df-buttons\">\n",
              "\n",
              "  <div class=\"colab-df-container\">\n",
              "    <button class=\"colab-df-convert\" onclick=\"convertToInteractive('df-6b68b031-ad32-4f45-9807-61f7d514c1fd')\"\n",
              "            title=\"Convert this dataframe to an interactive table.\"\n",
              "            style=\"display:none;\">\n",
              "\n",
              "  <svg xmlns=\"http://www.w3.org/2000/svg\" height=\"24px\" viewBox=\"0 -960 960 960\">\n",
              "    <path d=\"M120-120v-720h720v720H120Zm60-500h600v-160H180v160Zm220 220h160v-160H400v160Zm0 220h160v-160H400v160ZM180-400h160v-160H180v160Zm440 0h160v-160H620v160ZM180-180h160v-160H180v160Zm440 0h160v-160H620v160Z\"/>\n",
              "  </svg>\n",
              "    </button>\n",
              "\n",
              "  <style>\n",
              "    .colab-df-container {\n",
              "      display:flex;\n",
              "      gap: 12px;\n",
              "    }\n",
              "\n",
              "    .colab-df-convert {\n",
              "      background-color: #E8F0FE;\n",
              "      border: none;\n",
              "      border-radius: 50%;\n",
              "      cursor: pointer;\n",
              "      display: none;\n",
              "      fill: #1967D2;\n",
              "      height: 32px;\n",
              "      padding: 0 0 0 0;\n",
              "      width: 32px;\n",
              "    }\n",
              "\n",
              "    .colab-df-convert:hover {\n",
              "      background-color: #E2EBFA;\n",
              "      box-shadow: 0px 1px 2px rgba(60, 64, 67, 0.3), 0px 1px 3px 1px rgba(60, 64, 67, 0.15);\n",
              "      fill: #174EA6;\n",
              "    }\n",
              "\n",
              "    .colab-df-buttons div {\n",
              "      margin-bottom: 4px;\n",
              "    }\n",
              "\n",
              "    [theme=dark] .colab-df-convert {\n",
              "      background-color: #3B4455;\n",
              "      fill: #D2E3FC;\n",
              "    }\n",
              "\n",
              "    [theme=dark] .colab-df-convert:hover {\n",
              "      background-color: #434B5C;\n",
              "      box-shadow: 0px 1px 3px 1px rgba(0, 0, 0, 0.15);\n",
              "      filter: drop-shadow(0px 1px 2px rgba(0, 0, 0, 0.3));\n",
              "      fill: #FFFFFF;\n",
              "    }\n",
              "  </style>\n",
              "\n",
              "    <script>\n",
              "      const buttonEl =\n",
              "        document.querySelector('#df-6b68b031-ad32-4f45-9807-61f7d514c1fd button.colab-df-convert');\n",
              "      buttonEl.style.display =\n",
              "        google.colab.kernel.accessAllowed ? 'block' : 'none';\n",
              "\n",
              "      async function convertToInteractive(key) {\n",
              "        const element = document.querySelector('#df-6b68b031-ad32-4f45-9807-61f7d514c1fd');\n",
              "        const dataTable =\n",
              "          await google.colab.kernel.invokeFunction('convertToInteractive',\n",
              "                                                    [key], {});\n",
              "        if (!dataTable) return;\n",
              "\n",
              "        const docLinkHtml = 'Like what you see? Visit the ' +\n",
              "          '<a target=\"_blank\" href=https://colab.research.google.com/notebooks/data_table.ipynb>data table notebook</a>'\n",
              "          + ' to learn more about interactive tables.';\n",
              "        element.innerHTML = '';\n",
              "        dataTable['output_type'] = 'display_data';\n",
              "        await google.colab.output.renderOutput(dataTable, element);\n",
              "        const docLink = document.createElement('div');\n",
              "        docLink.innerHTML = docLinkHtml;\n",
              "        element.appendChild(docLink);\n",
              "      }\n",
              "    </script>\n",
              "  </div>\n",
              "\n",
              "\n",
              "<div id=\"df-d9d68ed8-03d6-4b5e-bdc7-5c09f44ef2dd\">\n",
              "  <button class=\"colab-df-quickchart\" onclick=\"quickchart('df-d9d68ed8-03d6-4b5e-bdc7-5c09f44ef2dd')\"\n",
              "            title=\"Suggest charts\"\n",
              "            style=\"display:none;\">\n",
              "\n",
              "<svg xmlns=\"http://www.w3.org/2000/svg\" height=\"24px\"viewBox=\"0 0 24 24\"\n",
              "     width=\"24px\">\n",
              "    <g>\n",
              "        <path d=\"M19 3H5c-1.1 0-2 .9-2 2v14c0 1.1.9 2 2 2h14c1.1 0 2-.9 2-2V5c0-1.1-.9-2-2-2zM9 17H7v-7h2v7zm4 0h-2V7h2v10zm4 0h-2v-4h2v4z\"/>\n",
              "    </g>\n",
              "</svg>\n",
              "  </button>\n",
              "\n",
              "<style>\n",
              "  .colab-df-quickchart {\n",
              "      --bg-color: #E8F0FE;\n",
              "      --fill-color: #1967D2;\n",
              "      --hover-bg-color: #E2EBFA;\n",
              "      --hover-fill-color: #174EA6;\n",
              "      --disabled-fill-color: #AAA;\n",
              "      --disabled-bg-color: #DDD;\n",
              "  }\n",
              "\n",
              "  [theme=dark] .colab-df-quickchart {\n",
              "      --bg-color: #3B4455;\n",
              "      --fill-color: #D2E3FC;\n",
              "      --hover-bg-color: #434B5C;\n",
              "      --hover-fill-color: #FFFFFF;\n",
              "      --disabled-bg-color: #3B4455;\n",
              "      --disabled-fill-color: #666;\n",
              "  }\n",
              "\n",
              "  .colab-df-quickchart {\n",
              "    background-color: var(--bg-color);\n",
              "    border: none;\n",
              "    border-radius: 50%;\n",
              "    cursor: pointer;\n",
              "    display: none;\n",
              "    fill: var(--fill-color);\n",
              "    height: 32px;\n",
              "    padding: 0;\n",
              "    width: 32px;\n",
              "  }\n",
              "\n",
              "  .colab-df-quickchart:hover {\n",
              "    background-color: var(--hover-bg-color);\n",
              "    box-shadow: 0 1px 2px rgba(60, 64, 67, 0.3), 0 1px 3px 1px rgba(60, 64, 67, 0.15);\n",
              "    fill: var(--button-hover-fill-color);\n",
              "  }\n",
              "\n",
              "  .colab-df-quickchart-complete:disabled,\n",
              "  .colab-df-quickchart-complete:disabled:hover {\n",
              "    background-color: var(--disabled-bg-color);\n",
              "    fill: var(--disabled-fill-color);\n",
              "    box-shadow: none;\n",
              "  }\n",
              "\n",
              "  .colab-df-spinner {\n",
              "    border: 2px solid var(--fill-color);\n",
              "    border-color: transparent;\n",
              "    border-bottom-color: var(--fill-color);\n",
              "    animation:\n",
              "      spin 1s steps(1) infinite;\n",
              "  }\n",
              "\n",
              "  @keyframes spin {\n",
              "    0% {\n",
              "      border-color: transparent;\n",
              "      border-bottom-color: var(--fill-color);\n",
              "      border-left-color: var(--fill-color);\n",
              "    }\n",
              "    20% {\n",
              "      border-color: transparent;\n",
              "      border-left-color: var(--fill-color);\n",
              "      border-top-color: var(--fill-color);\n",
              "    }\n",
              "    30% {\n",
              "      border-color: transparent;\n",
              "      border-left-color: var(--fill-color);\n",
              "      border-top-color: var(--fill-color);\n",
              "      border-right-color: var(--fill-color);\n",
              "    }\n",
              "    40% {\n",
              "      border-color: transparent;\n",
              "      border-right-color: var(--fill-color);\n",
              "      border-top-color: var(--fill-color);\n",
              "    }\n",
              "    60% {\n",
              "      border-color: transparent;\n",
              "      border-right-color: var(--fill-color);\n",
              "    }\n",
              "    80% {\n",
              "      border-color: transparent;\n",
              "      border-right-color: var(--fill-color);\n",
              "      border-bottom-color: var(--fill-color);\n",
              "    }\n",
              "    90% {\n",
              "      border-color: transparent;\n",
              "      border-bottom-color: var(--fill-color);\n",
              "    }\n",
              "  }\n",
              "</style>\n",
              "\n",
              "  <script>\n",
              "    async function quickchart(key) {\n",
              "      const quickchartButtonEl =\n",
              "        document.querySelector('#' + key + ' button');\n",
              "      quickchartButtonEl.disabled = true;  // To prevent multiple clicks.\n",
              "      quickchartButtonEl.classList.add('colab-df-spinner');\n",
              "      try {\n",
              "        const charts = await google.colab.kernel.invokeFunction(\n",
              "            'suggestCharts', [key], {});\n",
              "      } catch (error) {\n",
              "        console.error('Error during call to suggestCharts:', error);\n",
              "      }\n",
              "      quickchartButtonEl.classList.remove('colab-df-spinner');\n",
              "      quickchartButtonEl.classList.add('colab-df-quickchart-complete');\n",
              "    }\n",
              "    (() => {\n",
              "      let quickchartButtonEl =\n",
              "        document.querySelector('#df-d9d68ed8-03d6-4b5e-bdc7-5c09f44ef2dd button');\n",
              "      quickchartButtonEl.style.display =\n",
              "        google.colab.kernel.accessAllowed ? 'block' : 'none';\n",
              "    })();\n",
              "  </script>\n",
              "</div>\n",
              "\n",
              "    </div>\n",
              "  </div>\n"
            ],
            "application/vnd.google.colaboratory.intrinsic+json": {
              "type": "dataframe",
              "repr_error": "0"
            }
          },
          "metadata": {},
          "execution_count": 74
        }
      ]
    },
    {
      "cell_type": "code",
      "source": [
        "df_train['weather_main'].hist()"
      ],
      "metadata": {
        "colab": {
          "base_uri": "https://localhost:8080/",
          "height": 448
        },
        "id": "QzYzBI6K1TMd",
        "outputId": "6c42917d-f5af-4a2a-cc71-1df875503d93"
      },
      "execution_count": null,
      "outputs": [
        {
          "output_type": "execute_result",
          "data": {
            "text/plain": [
              "<Axes: >"
            ]
          },
          "metadata": {},
          "execution_count": 75
        },
        {
          "output_type": "display_data",
          "data": {
            "text/plain": [
              "<Figure size 640x480 with 1 Axes>"
            ],
            "image/png": "[encoded data removed]"
          },
          "metadata": {}
        }
      ]
    },
    {
      "cell_type": "code",
      "source": [
        "df_train = df_train.drop(index = (df_train[(df_train['pressure'] == 0) | (df_train['humidity'] == 0)]).index)"
      ],
      "metadata": {
        "id": "qAFWc8V81YqI"
      },
      "execution_count": null,
      "outputs": []
    },
    {
      "cell_type": "code",
      "source": [
        "df_train['temp'].max()"
      ],
      "metadata": {
        "colab": {
          "base_uri": "https://localhost:8080/"
        },
        "id": "h7PZjyoV1pCG",
        "outputId": "fbc5130c-a1ee-45be-b906-c3c1b9ad418a"
      },
      "execution_count": null,
      "outputs": [
        {
          "output_type": "execute_result",
          "data": {
            "text/plain": [
              "315.6"
            ]
          },
          "metadata": {},
          "execution_count": 77
        }
      ]
    },
    {
      "cell_type": "code",
      "source": [
        "df_train['temp'].hist()"
      ],
      "metadata": {
        "colab": {
          "base_uri": "https://localhost:8080/",
          "height": 453
        },
        "id": "cIPif1Pr4skZ",
        "outputId": "e653f01b-1f56-4c78-a91d-29200a1833d8"
      },
      "execution_count": null,
      "outputs": [
        {
          "output_type": "execute_result",
          "data": {
            "text/plain": [
              "<Axes: >"
            ]
          },
          "metadata": {},
          "execution_count": 78
        },
        {
          "output_type": "display_data",
          "data": {
            "text/plain": [
              "<Figure size 640x480 with 1 Axes>"
            ],
            "image/png": "[encoded data removed]"
          },
          "metadata": {}
        }
      ]
    },
    {
      "cell_type": "code",
      "source": [
        "df_train.iloc[df_train['temp'].argsort()[(int)(len(df_train)*0.95):].to_list()]['city_name'].value_counts()"
      ],
      "metadata": {
        "colab": {
          "base_uri": "https://localhost:8080/",
          "height": 272
        },
        "id": "OS3WYYmX5VkF",
        "outputId": "ca8fb235-1889-4b00-b353-77406a0312bb"
      },
      "execution_count": null,
      "outputs": [
        {
          "output_type": "execute_result",
          "data": {
            "text/plain": [
              "city_name\n",
              "Seville       3842\n",
              "Madrid        2384\n",
              "Valencia      1051\n",
              " Barcelona     334\n",
              "Bilbao         293\n",
              "Name: count, dtype: int64"
            ],
            "text/html": [
              "<div>\n",
              "<style scoped>\n",
              "    .dataframe tbody tr th:only-of-type {\n",
              "        vertical-align: middle;\n",
              "    }\n",
              "\n",
              "    .dataframe tbody tr th {\n",
              "        vertical-align: top;\n",
              "    }\n",
              "\n",
              "    .dataframe thead th {\n",
              "        text-align: right;\n",
              "    }\n",
              "</style>\n",
              "<table border=\"1\" class=\"dataframe\">\n",
              "  <thead>\n",
              "    <tr style=\"text-align: right;\">\n",
              "      <th></th>\n",
              "      <th>count</th>\n",
              "    </tr>\n",
              "    <tr>\n",
              "      <th>city_name</th>\n",
              "      <th></th>\n",
              "    </tr>\n",
              "  </thead>\n",
              "  <tbody>\n",
              "    <tr>\n",
              "      <th>Seville</th>\n",
              "      <td>3842</td>\n",
              "    </tr>\n",
              "    <tr>\n",
              "      <th>Madrid</th>\n",
              "      <td>2384</td>\n",
              "    </tr>\n",
              "    <tr>\n",
              "      <th>Valencia</th>\n",
              "      <td>1051</td>\n",
              "    </tr>\n",
              "    <tr>\n",
              "      <th>Barcelona</th>\n",
              "      <td>334</td>\n",
              "    </tr>\n",
              "    <tr>\n",
              "      <th>Bilbao</th>\n",
              "      <td>293</td>\n",
              "    </tr>\n",
              "  </tbody>\n",
              "</table>\n",
              "</div><br><label><b>dtype:</b> int64</label>"
            ]
          },
          "metadata": {},
          "execution_count": 79
        }
      ]
    },
    {
      "cell_type": "code",
      "source": [
        "df_train[df_train['temp_max'] > df_train['temp'].quantile(0.95)].groupby(['city_name'])['weather_main'].value_counts()"
      ],
      "metadata": {
        "colab": {
          "base_uri": "https://localhost:8080/",
          "height": 586
        },
        "id": "RimZhGVDLLi1",
        "outputId": "454801f2-b641-4f26-89aa-8d21096a3e15"
      },
      "execution_count": null,
      "outputs": [
        {
          "output_type": "execute_result",
          "data": {
            "text/plain": [
              "city_name   weather_main\n",
              " Barcelona  clouds           847\n",
              "            clear            663\n",
              "            rain             110\n",
              "Bilbao      clear            386\n",
              "            clouds           312\n",
              "            rain               8\n",
              "Madrid      clear           2591\n",
              "            clouds           656\n",
              "            rain              35\n",
              "Seville     clear           5960\n",
              "            clouds           967\n",
              "            rain             207\n",
              "Valencia    clouds           826\n",
              "            clear            683\n",
              "            rain               4\n",
              "Name: count, dtype: int64"
            ],
            "text/html": [
              "<div>\n",
              "<style scoped>\n",
              "    .dataframe tbody tr th:only-of-type {\n",
              "        vertical-align: middle;\n",
              "    }\n",
              "\n",
              "    .dataframe tbody tr th {\n",
              "        vertical-align: top;\n",
              "    }\n",
              "\n",
              "    .dataframe thead th {\n",
              "        text-align: right;\n",
              "    }\n",
              "</style>\n",
              "<table border=\"1\" class=\"dataframe\">\n",
              "  <thead>\n",
              "    <tr style=\"text-align: right;\">\n",
              "      <th></th>\n",
              "      <th></th>\n",
              "      <th>count</th>\n",
              "    </tr>\n",
              "    <tr>\n",
              "      <th>city_name</th>\n",
              "      <th>weather_main</th>\n",
              "      <th></th>\n",
              "    </tr>\n",
              "  </thead>\n",
              "  <tbody>\n",
              "    <tr>\n",
              "      <th rowspan=\"3\" valign=\"top\">Barcelona</th>\n",
              "      <th>clouds</th>\n",
              "      <td>847</td>\n",
              "    </tr>\n",
              "    <tr>\n",
              "      <th>clear</th>\n",
              "      <td>663</td>\n",
              "    </tr>\n",
              "    <tr>\n",
              "      <th>rain</th>\n",
              "      <td>110</td>\n",
              "    </tr>\n",
              "    <tr>\n",
              "      <th rowspan=\"3\" valign=\"top\">Bilbao</th>\n",
              "      <th>clear</th>\n",
              "      <td>386</td>\n",
              "    </tr>\n",
              "    <tr>\n",
              "      <th>clouds</th>\n",
              "      <td>312</td>\n",
              "    </tr>\n",
              "    <tr>\n",
              "      <th>rain</th>\n",
              "      <td>8</td>\n",
              "    </tr>\n",
              "    <tr>\n",
              "      <th rowspan=\"3\" valign=\"top\">Madrid</th>\n",
              "      <th>clear</th>\n",
              "      <td>2591</td>\n",
              "    </tr>\n",
              "    <tr>\n",
              "      <th>clouds</th>\n",
              "      <td>656</td>\n",
              "    </tr>\n",
              "    <tr>\n",
              "      <th>rain</th>\n",
              "      <td>35</td>\n",
              "    </tr>\n",
              "    <tr>\n",
              "      <th rowspan=\"3\" valign=\"top\">Seville</th>\n",
              "      <th>clear</th>\n",
              "      <td>5960</td>\n",
              "    </tr>\n",
              "    <tr>\n",
              "      <th>clouds</th>\n",
              "      <td>967</td>\n",
              "    </tr>\n",
              "    <tr>\n",
              "      <th>rain</th>\n",
              "      <td>207</td>\n",
              "    </tr>\n",
              "    <tr>\n",
              "      <th rowspan=\"3\" valign=\"top\">Valencia</th>\n",
              "      <th>clouds</th>\n",
              "      <td>826</td>\n",
              "    </tr>\n",
              "    <tr>\n",
              "      <th>clear</th>\n",
              "      <td>683</td>\n",
              "    </tr>\n",
              "    <tr>\n",
              "      <th>rain</th>\n",
              "      <td>4</td>\n",
              "    </tr>\n",
              "  </tbody>\n",
              "</table>\n",
              "</div><br><label><b>dtype:</b> int64</label>"
            ]
          },
          "metadata": {},
          "execution_count": 80
        }
      ]
    },
    {
      "cell_type": "code",
      "source": [
        "df_train[df_train['snow_3h'] != 0]['temp'].mean()-273.15"
      ],
      "metadata": {
        "colab": {
          "base_uri": "https://localhost:8080/"
        },
        "id": "ma0jfz7xJVJk",
        "outputId": "e4e61564-75a6-4e84-f0b1-6115696e3d53"
      },
      "execution_count": null,
      "outputs": [
        {
          "output_type": "execute_result",
          "data": {
            "text/plain": [
              "2.968751012731502"
            ]
          },
          "metadata": {},
          "execution_count": 81
        }
      ]
    },
    {
      "cell_type": "code",
      "source": [
        "(df_train[df_train['snow_3h'] != 0]['temp_max']-df_train[df_train['snow_3h'] != 0]['temp_min']).mean()"
      ],
      "metadata": {
        "colab": {
          "base_uri": "https://localhost:8080/"
        },
        "id": "PJQ9eV09Onw8",
        "outputId": "e7ff34b8-3a70-4947-9ddd-7e69fd834655"
      },
      "execution_count": null,
      "outputs": [
        {
          "output_type": "execute_result",
          "data": {
            "text/plain": [
              "0.0"
            ]
          },
          "metadata": {},
          "execution_count": 82
        }
      ]
    },
    {
      "cell_type": "code",
      "source": [
        "(df_train[df_train['temp_max'] > df_train['temp'].quantile(0.95)]['temp_max']-df_train[df_train['temp_max'] > df_train['temp'].quantile(0.95)]['temp_min']).mean()"
      ],
      "metadata": {
        "colab": {
          "base_uri": "https://localhost:8080/"
        },
        "id": "Kha50lvLO3pc",
        "outputId": "5d411caf-f136-490a-f2dd-d29dda997f29"
      },
      "execution_count": null,
      "outputs": [
        {
          "output_type": "execute_result",
          "data": {
            "text/plain": [
              "6.592148719747455"
            ]
          },
          "metadata": {},
          "execution_count": 83
        }
      ]
    },
    {
      "cell_type": "code",
      "source": [
        "from sklearn.model_selection import train_test_split\n",
        "from sklearn.preprocessing import OrdinalEncoder\n",
        "enc = OrdinalEncoder()\n",
        "df_train.drop(columns = ['dt_iso', 'city_name', 'weather_description', 'weather_icon', 'weather_id', 'clouds_all'],\n",
        "              inplace = True)\n",
        "dict = {'clouds':0, 'clear':1, 'rain':2}\n",
        "df_train['weather_main'].map(dict)\n",
        "X_train, X_test, y_train, y_test = train_test_split(df_train.drop(columns = ['weather_main']),\n",
        "                                                    df_train['weather_main'],\n",
        "                                                    test_size = 0.33,\n",
        "                                                    stratify = df_train['weather_main'])"
      ],
      "metadata": {
        "id": "vqlZAArZPCOL"
      },
      "execution_count": null,
      "outputs": []
    },
    {
      "cell_type": "code",
      "source": [
        "from sklearn.tree import DecisionTreeClassifier\n",
        "from sklearn.linear_model import LogisticRegression\n",
        "from sklearn.metrics import accuracy_score\n",
        "from sklearn.metrics import confusion_matrix, ConfusionMatrixDisplay\n",
        "\n",
        "dtc = DecisionTreeClassifier(max_depth = 10)\n",
        "dtc.fit(X_train, y_train)\n",
        "log_reg = LogisticRegression(solver = 'saga', max_iter = 500)\n",
        "log_reg.fit(X_train, y_train)\n",
        "pred_dtc = dtc.predict(X_test)\n",
        "pred_log_reg = log_reg.predict(X_test)\n",
        "print(accuracy_score(y_test, pred_dtc))\n",
        "print(accuracy_score(y_test, pred_log_reg))\n",
        "cm_dtc = confusion_matrix(y_test, pred_dtc)\n",
        "disp = ConfusionMatrixDisplay(confusion_matrix=cm_dtc)\n",
        "cm_log_reg = confusion_matrix(y_test, pred_log_reg)\n",
        "disp_log_reg = ConfusionMatrixDisplay(confusion_matrix=cm_log_reg)\n",
        "disp.plot()\n",
        "disp_log_reg.plot()"
      ],
      "metadata": {
        "colab": {
          "base_uri": "https://localhost:8080/",
          "height": 990
        },
        "id": "sdKXQaGgVyBJ",
        "outputId": "19b9a7ba-8fbf-44cf-bf34-766000610a44"
      },
      "execution_count": null,
      "outputs": [
        {
          "output_type": "stream",
          "name": "stderr",
          "text": [
            "/usr/local/lib/python3.10/dist-packages/sklearn/linear_model/_sag.py:348: ConvergenceWarning: The max_iter was reached which means the coef_ did not converge\n",
            "  warnings.warn(\n"
          ]
        },
        {
          "output_type": "stream",
          "name": "stdout",
          "text": [
            "0.6988727858293076\n",
            "0.5335097001763669\n"
          ]
        },
        {
          "output_type": "execute_result",
          "data": {
            "text/plain": [
              "<sklearn.metrics._plot.confusion_matrix.ConfusionMatrixDisplay at 0x7f8ece771570>"
            ]
          },
          "metadata": {},
          "execution_count": 85
        },
        {
          "output_type": "display_data",
          "data": {
            "text/plain": [
              "<Figure size 640x480 with 2 Axes>"
            ],
            "image/png": "[encoded data removed]"
          },
          "metadata": {}
        },
        {
          "output_type": "display_data",
          "data": {
            "text/plain": [
              "<Figure size 640x480 with 2 Axes>"
            ],
            "image/png": "[encoded data removed]"
          },
          "metadata": {}
        }
      ]
    },
    {
      "cell_type": "code",
      "source": [
        "from sklearn.model_selection import cross_val_score\n",
        "print(cross_val_score(dtc,\n",
        "                      df_train.drop(columns = ['weather_main']),\n",
        "                      df_train['weather_main'],\n",
        "                      cv = 10).mean())\n",
        "#print(cross_val_score(log_reg,\n",
        "#                      df_train.drop(columns = ['weather_main']),\n",
        "#                      df_train['weather_main'],\n",
        "#                      cv = 10).mean())"
      ],
      "metadata": {
        "colab": {
          "base_uri": "https://localhost:8080/"
        },
        "id": "POo0vPReeTUl",
        "outputId": "11e98c2f-49bf-4ab1-f09a-ff1a33876070"
      },
      "execution_count": null,
      "outputs": [
        {
          "output_type": "stream",
          "name": "stdout",
          "text": [
            "0.6991965584867464\n"
          ]
        }
      ]
    },
    {
      "cell_type": "code",
      "source": [
        "from sklearn.preprocessing import Normalizer\n",
        "transformer = Normalizer(norm = 'l2')\n",
        "df_normalized = pd.DataFrame(transformer.fit_transform(df_train.drop(columns = ['weather_main'])),\n",
        "             columns = df_train.drop(columns = ['weather_main']).columns)\n",
        "X_train, X_test, y_train, y_test = train_test_split(df_normalized,\n",
        "                                                    df_train['weather_main'],\n",
        "                                                    test_size = 0.33,\n",
        "                                                    stratify = df_train['weather_main'])"
      ],
      "metadata": {
        "id": "fl-5Q3ODf00x"
      },
      "execution_count": null,
      "outputs": []
    },
    {
      "cell_type": "code",
      "source": [
        "dtc.fit(X_train, y_train)\n",
        "pred_dtc = dtc.predict(X_test)\n",
        "print(accuracy_score(y_test, pred_dtc))\n",
        "log_reg.fit(X_train, y_train)\n",
        "pred_log_reg = log_reg.predict(X_test)\n",
        "print(accuracy_score(y_test, pred_log_reg))"
      ],
      "metadata": {
        "colab": {
          "base_uri": "https://localhost:8080/"
        },
        "id": "_yexeWWDjGvh",
        "outputId": "f13a4fd2-ac36-4525-91fc-f40a82a41c85"
      },
      "execution_count": null,
      "outputs": [
        {
          "output_type": "stream",
          "name": "stdout",
          "text": [
            "0.6907445748025458\n",
            "0.539797561536692\n"
          ]
        }
      ]
    },
    {
      "cell_type": "code",
      "source": [
        "from sklearn.decomposition import PCA\n",
        "from sklearn.pipeline import Pipeline\n",
        "from sklearn.pipeline import FeatureUnion\n",
        "pca = PCA(n_components=5)\n",
        "union = FeatureUnion([(\"pca\", PCA(n_components=5)),\n",
        "                      (\"normalizer\", Normalizer(norm = 'l2'))])\n",
        "pipe = Pipeline(steps = [('union', union),\n",
        "                         ('dtc', dtc)])\n",
        "X_train, X_test, y_train, y_test = train_test_split(df_train.drop(columns = ['weather_main']),\n",
        "                                                    df_train['weather_main'],\n",
        "                                                    test_size = 0.33,\n",
        "                                                    stratify = df_train['weather_main'])\n",
        "pipe.fit(X_train, y_train)\n",
        "print(accuracy_score(y_test, pipe.predict(X_test)))"
      ],
      "metadata": {
        "colab": {
          "base_uri": "https://localhost:8080/"
        },
        "id": "u8eTbqQSjIJ7",
        "outputId": "00587eba-4b31-4bbf-bc1c-bc57e5ff2ca1"
      },
      "execution_count": null,
      "outputs": [
        {
          "output_type": "stream",
          "name": "stdout",
          "text": [
            "0.7004447511693889\n"
          ]
        }
      ]
    },
    {
      "cell_type": "code",
      "source": [
        "from sklearn.model_selection import GridSearchCV\n",
        "parameters = {'union__pca__n_components':[3,5],\n",
        "              'dtc__criterion':['gini', 'entropy']}\n",
        "clf = GridSearchCV(pipe, parameters)\n",
        "clf.fit(X_train, y_train)\n",
        "pred_grid = clf.best_estimator_.predict(X_test)\n",
        "print(accuracy_score(y_test, pred_grid))"
      ],
      "metadata": {
        "colab": {
          "base_uri": "https://localhost:8080/"
        },
        "id": "zIZk7H59rD2L",
        "outputId": "20c75c60-766a-4830-f0a6-9d1aae1bbe3e"
      },
      "execution_count": null,
      "outputs": [
        {
          "output_type": "stream",
          "name": "stdout",
          "text": [
            "0.7023042711448508\n"
          ]
        }
      ]
    },
    {
      "cell_type": "code",
      "source": [
        "y = pd.read_csv('class.csv')\n",
        "df_test = pd.read_csv('weather_test.csv')\n",
        "df_test.drop(columns = ['dt_iso', 'city_name', 'weather_description', 'weather_icon', 'weather_id', 'clouds_all',\n",
        "                        'Unnamed: 0'],\n",
        "              inplace = True)\n",
        "y.drop(columns = ['Unnamed: 0'], inplace = True)\n",
        "y['weather_main'].map(dict)\n",
        "enc.fit_transform(y)\n",
        "df_test['weather_main'] = pipe.predict(df_test)\n",
        "accuracy_score(y, df_test['weather_main'])"
      ],
      "metadata": {
        "colab": {
          "base_uri": "https://localhost:8080/"
        },
        "id": "oqlPj-azsdeb",
        "outputId": "63be402f-5bfb-4fbe-fda5-6056f832f61c"
      },
      "execution_count": null,
      "outputs": [
        {
          "output_type": "execute_result",
          "data": {
            "text/plain": [
              "0.7023"
            ]
          },
          "metadata": {},
          "execution_count": 92
        }
      ]
    },
    {
      "cell_type": "code",
      "source": [
        "df_test"
      ],
      "metadata": {
        "colab": {
          "base_uri": "https://localhost:8080/",
          "height": 424
        },
        "id": "eiWZVuGmvoxF",
        "outputId": "df34f21a-bf98-4d2a-cbf1-ffd3495bdacd"
      },
      "execution_count": null,
      "outputs": [
        {
          "output_type": "execute_result",
          "data": {
            "text/plain": [
              "         temp  temp_min  temp_max  pressure  humidity  wind_speed  wind_deg  \\\n",
              "0     293.150   293.150   293.150      1019        45           2       200   \n",
              "1     265.442   265.442   265.442       972        64           0       240   \n",
              "2     302.870   301.050   304.150      1012        29           6       290   \n",
              "3     291.944   291.944   291.944       956        34           3        29   \n",
              "4     312.540   310.650   313.150      1017        11           5       220   \n",
              "...       ...       ...       ...       ...       ...         ...       ...   \n",
              "9995  290.060   282.150   300.150      1024        81           4        70   \n",
              "9996  276.540   276.150   277.150      1025        86           0         0   \n",
              "9997  289.190   287.590   291.150      1020        63           3        70   \n",
              "9998  292.110   290.150   295.150      1018        64           1       348   \n",
              "9999  286.070   285.930   286.150      1015        54           0         0   \n",
              "\n",
              "      rain_1h  rain_3h  snow_3h weather_main  \n",
              "0         0.0      0.0      0.0        clear  \n",
              "1         0.0      0.0      0.0        clear  \n",
              "2         0.0      0.0      0.0       clouds  \n",
              "3         0.0      0.0      0.0        clear  \n",
              "4         0.0      0.0      0.0        clear  \n",
              "...       ...      ...      ...          ...  \n",
              "9995      0.0      0.0      0.0        clear  \n",
              "9996      0.0      0.0      0.0        clear  \n",
              "9997      0.0      0.0      0.0       clouds  \n",
              "9998      0.0      0.0      0.0       clouds  \n",
              "9999      0.0      0.0      0.0       clouds  \n",
              "\n",
              "[10000 rows x 11 columns]"
            ],
            "text/html": [
              "\n",
              "  <div id=\"df-62d19411-95ba-4918-8720-107f09d3e8dc\" class=\"colab-df-container\">\n",
              "    <div>\n",
              "<style scoped>\n",
              "    .dataframe tbody tr th:only-of-type {\n",
              "        vertical-align: middle;\n",
              "    }\n",
              "\n",
              "    .dataframe tbody tr th {\n",
              "        vertical-align: top;\n",
              "    }\n",
              "\n",
              "    .dataframe thead th {\n",
              "        text-align: right;\n",
              "    }\n",
              "</style>\n",
              "<table border=\"1\" class=\"dataframe\">\n",
              "  <thead>\n",
              "    <tr style=\"text-align: right;\">\n",
              "      <th></th>\n",
              "      <th>temp</th>\n",
              "      <th>temp_min</th>\n",
              "      <th>temp_max</th>\n",
              "      <th>pressure</th>\n",
              "      <th>humidity</th>\n",
              "      <th>wind_speed</th>\n",
              "      <th>wind_deg</th>\n",
              "      <th>rain_1h</th>\n",
              "      <th>rain_3h</th>\n",
              "      <th>snow_3h</th>\n",
              "      <th>weather_main</th>\n",
              "    </tr>\n",
              "  </thead>\n",
              "  <tbody>\n",
              "    <tr>\n",
              "      <th>0</th>\n",
              "      <td>293.150</td>\n",
              "      <td>293.150</td>\n",
              "      <td>293.150</td>\n",
              "      <td>1019</td>\n",
              "      <td>45</td>\n",
              "      <td>2</td>\n",
              "      <td>200</td>\n",
              "      <td>0.0</td>\n",
              "      <td>0.0</td>\n",
              "      <td>0.0</td>\n",
              "      <td>clear</td>\n",
              "    </tr>\n",
              "    <tr>\n",
              "      <th>1</th>\n",
              "      <td>265.442</td>\n",
              "      <td>265.442</td>\n",
              "      <td>265.442</td>\n",
              "      <td>972</td>\n",
              "      <td>64</td>\n",
              "      <td>0</td>\n",
              "      <td>240</td>\n",
              "      <td>0.0</td>\n",
              "      <td>0.0</td>\n",
              "      <td>0.0</td>\n",
              "      <td>clear</td>\n",
              "    </tr>\n",
              "    <tr>\n",
              "      <th>2</th>\n",
              "      <td>302.870</td>\n",
              "      <td>301.050</td>\n",
              "      <td>304.150</td>\n",
              "      <td>1012</td>\n",
              "      <td>29</td>\n",
              "      <td>6</td>\n",
              "      <td>290</td>\n",
              "      <td>0.0</td>\n",
              "      <td>0.0</td>\n",
              "      <td>0.0</td>\n",
              "      <td>clouds</td>\n",
              "    </tr>\n",
              "    <tr>\n",
              "      <th>3</th>\n",
              "      <td>291.944</td>\n",
              "      <td>291.944</td>\n",
              "      <td>291.944</td>\n",
              "      <td>956</td>\n",
              "      <td>34</td>\n",
              "      <td>3</td>\n",
              "      <td>29</td>\n",
              "      <td>0.0</td>\n",
              "      <td>0.0</td>\n",
              "      <td>0.0</td>\n",
              "      <td>clear</td>\n",
              "    </tr>\n",
              "    <tr>\n",
              "      <th>4</th>\n",
              "      <td>312.540</td>\n",
              "      <td>310.650</td>\n",
              "      <td>313.150</td>\n",
              "      <td>1017</td>\n",
              "      <td>11</td>\n",
              "      <td>5</td>\n",
              "      <td>220</td>\n",
              "      <td>0.0</td>\n",
              "      <td>0.0</td>\n",
              "      <td>0.0</td>\n",
              "      <td>clear</td>\n",
              "    </tr>\n",
              "    <tr>\n",
              "      <th>...</th>\n",
              "      <td>...</td>\n",
              "      <td>...</td>\n",
              "      <td>...</td>\n",
              "      <td>...</td>\n",
              "      <td>...</td>\n",
              "      <td>...</td>\n",
              "      <td>...</td>\n",
              "      <td>...</td>\n",
              "      <td>...</td>\n",
              "      <td>...</td>\n",
              "      <td>...</td>\n",
              "    </tr>\n",
              "    <tr>\n",
              "      <th>9995</th>\n",
              "      <td>290.060</td>\n",
              "      <td>282.150</td>\n",
              "      <td>300.150</td>\n",
              "      <td>1024</td>\n",
              "      <td>81</td>\n",
              "      <td>4</td>\n",
              "      <td>70</td>\n",
              "      <td>0.0</td>\n",
              "      <td>0.0</td>\n",
              "      <td>0.0</td>\n",
              "      <td>clear</td>\n",
              "    </tr>\n",
              "    <tr>\n",
              "      <th>9996</th>\n",
              "      <td>276.540</td>\n",
              "      <td>276.150</td>\n",
              "      <td>277.150</td>\n",
              "      <td>1025</td>\n",
              "      <td>86</td>\n",
              "      <td>0</td>\n",
              "      <td>0</td>\n",
              "      <td>0.0</td>\n",
              "      <td>0.0</td>\n",
              "      <td>0.0</td>\n",
              "      <td>clear</td>\n",
              "    </tr>\n",
              "    <tr>\n",
              "      <th>9997</th>\n",
              "      <td>289.190</td>\n",
              "      <td>287.590</td>\n",
              "      <td>291.150</td>\n",
              "      <td>1020</td>\n",
              "      <td>63</td>\n",
              "      <td>3</td>\n",
              "      <td>70</td>\n",
              "      <td>0.0</td>\n",
              "      <td>0.0</td>\n",
              "      <td>0.0</td>\n",
              "      <td>clouds</td>\n",
              "    </tr>\n",
              "    <tr>\n",
              "      <th>9998</th>\n",
              "      <td>292.110</td>\n",
              "      <td>290.150</td>\n",
              "      <td>295.150</td>\n",
              "      <td>1018</td>\n",
              "      <td>64</td>\n",
              "      <td>1</td>\n",
              "      <td>348</td>\n",
              "      <td>0.0</td>\n",
              "      <td>0.0</td>\n",
              "      <td>0.0</td>\n",
              "      <td>clouds</td>\n",
              "    </tr>\n",
              "    <tr>\n",
              "      <th>9999</th>\n",
              "      <td>286.070</td>\n",
              "      <td>285.930</td>\n",
              "      <td>286.150</td>\n",
              "      <td>1015</td>\n",
              "      <td>54</td>\n",
              "      <td>0</td>\n",
              "      <td>0</td>\n",
              "      <td>0.0</td>\n",
              "      <td>0.0</td>\n",
              "      <td>0.0</td>\n",
              "      <td>clouds</td>\n",
              "    </tr>\n",
              "  </tbody>\n",
              "</table>\n",
              "<p>10000 rows × 11 columns</p>\n",
              "</div>\n",
              "    <div class=\"colab-df-buttons\">\n",
              "\n",
              "  <div class=\"colab-df-container\">\n",
              "    <button class=\"colab-df-convert\" onclick=\"convertToInteractive('df-62d19411-95ba-4918-8720-107f09d3e8dc')\"\n",
              "            title=\"Convert this dataframe to an interactive table.\"\n",
              "            style=\"display:none;\">\n",
              "\n",
              "  <svg xmlns=\"http://www.w3.org/2000/svg\" height=\"24px\" viewBox=\"0 -960 960 960\">\n",
              "    <path d=\"M120-120v-720h720v720H120Zm60-500h600v-160H180v160Zm220 220h160v-160H400v160Zm0 220h160v-160H400v160ZM180-400h160v-160H180v160Zm440 0h160v-160H620v160ZM180-180h160v-160H180v160Zm440 0h160v-160H620v160Z\"/>\n",
              "  </svg>\n",
              "    </button>\n",
              "\n",
              "  <style>\n",
              "    .colab-df-container {\n",
              "      display:flex;\n",
              "      gap: 12px;\n",
              "    }\n",
              "\n",
              "    .colab-df-convert {\n",
              "      background-color: #E8F0FE;\n",
              "      border: none;\n",
              "      border-radius: 50%;\n",
              "      cursor: pointer;\n",
              "      display: none;\n",
              "      fill: #1967D2;\n",
              "      height: 32px;\n",
              "      padding: 0 0 0 0;\n",
              "      width: 32px;\n",
              "    }\n",
              "\n",
              "    .colab-df-convert:hover {\n",
              "      background-color: #E2EBFA;\n",
              "      box-shadow: 0px 1px 2px rgba(60, 64, 67, 0.3), 0px 1px 3px 1px rgba(60, 64, 67, 0.15);\n",
              "      fill: #174EA6;\n",
              "    }\n",
              "\n",
              "    .colab-df-buttons div {\n",
              "      margin-bottom: 4px;\n",
              "    }\n",
              "\n",
              "    [theme=dark] .colab-df-convert {\n",
              "      background-color: #3B4455;\n",
              "      fill: #D2E3FC;\n",
              "    }\n",
              "\n",
              "    [theme=dark] .colab-df-convert:hover {\n",
              "      background-color: #434B5C;\n",
              "      box-shadow: 0px 1px 3px 1px rgba(0, 0, 0, 0.15);\n",
              "      filter: drop-shadow(0px 1px 2px rgba(0, 0, 0, 0.3));\n",
              "      fill: #FFFFFF;\n",
              "    }\n",
              "  </style>\n",
              "\n",
              "    <script>\n",
              "      const buttonEl =\n",
              "        document.querySelector('#df-62d19411-95ba-4918-8720-107f09d3e8dc button.colab-df-convert');\n",
              "      buttonEl.style.display =\n",
              "        google.colab.kernel.accessAllowed ? 'block' : 'none';\n",
              "\n",
              "      async function convertToInteractive(key) {\n",
              "        const element = document.querySelector('#df-62d19411-95ba-4918-8720-107f09d3e8dc');\n",
              "        const dataTable =\n",
              "          await google.colab.kernel.invokeFunction('convertToInteractive',\n",
              "                                                    [key], {});\n",
              "        if (!dataTable) return;\n",
              "\n",
              "        const docLinkHtml = 'Like what you see? Visit the ' +\n",
              "          '<a target=\"_blank\" href=https://colab.research.google.com/notebooks/data_table.ipynb>data table notebook</a>'\n",
              "          + ' to learn more about interactive tables.';\n",
              "        element.innerHTML = '';\n",
              "        dataTable['output_type'] = 'display_data';\n",
              "        await google.colab.output.renderOutput(dataTable, element);\n",
              "        const docLink = document.createElement('div');\n",
              "        docLink.innerHTML = docLinkHtml;\n",
              "        element.appendChild(docLink);\n",
              "      }\n",
              "    </script>\n",
              "  </div>\n",
              "\n",
              "\n",
              "<div id=\"df-3db4cef3-0c74-400e-ae8e-966e02756084\">\n",
              "  <button class=\"colab-df-quickchart\" onclick=\"quickchart('df-3db4cef3-0c74-400e-ae8e-966e02756084')\"\n",
              "            title=\"Suggest charts\"\n",
              "            style=\"display:none;\">\n",
              "\n",
              "<svg xmlns=\"http://www.w3.org/2000/svg\" height=\"24px\"viewBox=\"0 0 24 24\"\n",
              "     width=\"24px\">\n",
              "    <g>\n",
              "        <path d=\"M19 3H5c-1.1 0-2 .9-2 2v14c0 1.1.9 2 2 2h14c1.1 0 2-.9 2-2V5c0-1.1-.9-2-2-2zM9 17H7v-7h2v7zm4 0h-2V7h2v10zm4 0h-2v-4h2v4z\"/>\n",
              "    </g>\n",
              "</svg>\n",
              "  </button>\n",
              "\n",
              "<style>\n",
              "  .colab-df-quickchart {\n",
              "      --bg-color: #E8F0FE;\n",
              "      --fill-color: #1967D2;\n",
              "      --hover-bg-color: #E2EBFA;\n",
              "      --hover-fill-color: #174EA6;\n",
              "      --disabled-fill-color: #AAA;\n",
              "      --disabled-bg-color: #DDD;\n",
              "  }\n",
              "\n",
              "  [theme=dark] .colab-df-quickchart {\n",
              "      --bg-color: #3B4455;\n",
              "      --fill-color: #D2E3FC;\n",
              "      --hover-bg-color: #434B5C;\n",
              "      --hover-fill-color: #FFFFFF;\n",
              "      --disabled-bg-color: #3B4455;\n",
              "      --disabled-fill-color: #666;\n",
              "  }\n",
              "\n",
              "  .colab-df-quickchart {\n",
              "    background-color: var(--bg-color);\n",
              "    border: none;\n",
              "    border-radius: 50%;\n",
              "    cursor: pointer;\n",
              "    display: none;\n",
              "    fill: var(--fill-color);\n",
              "    height: 32px;\n",
              "    padding: 0;\n",
              "    width: 32px;\n",
              "  }\n",
              "\n",
              "  .colab-df-quickchart:hover {\n",
              "    background-color: var(--hover-bg-color);\n",
              "    box-shadow: 0 1px 2px rgba(60, 64, 67, 0.3), 0 1px 3px 1px rgba(60, 64, 67, 0.15);\n",
              "    fill: var(--button-hover-fill-color);\n",
              "  }\n",
              "\n",
              "  .colab-df-quickchart-complete:disabled,\n",
              "  .colab-df-quickchart-complete:disabled:hover {\n",
              "    background-color: var(--disabled-bg-color);\n",
              "    fill: var(--disabled-fill-color);\n",
              "    box-shadow: none;\n",
              "  }\n",
              "\n",
              "  .colab-df-spinner {\n",
              "    border: 2px solid var(--fill-color);\n",
              "    border-color: transparent;\n",
              "    border-bottom-color: var(--fill-color);\n",
              "    animation:\n",
              "      spin 1s steps(1) infinite;\n",
              "  }\n",
              "\n",
              "  @keyframes spin {\n",
              "    0% {\n",
              "      border-color: transparent;\n",
              "      border-bottom-color: var(--fill-color);\n",
              "      border-left-color: var(--fill-color);\n",
              "    }\n",
              "    20% {\n",
              "      border-color: transparent;\n",
              "      border-left-color: var(--fill-color);\n",
              "      border-top-color: var(--fill-color);\n",
              "    }\n",
              "    30% {\n",
              "      border-color: transparent;\n",
              "      border-left-color: var(--fill-color);\n",
              "      border-top-color: var(--fill-color);\n",
              "      border-right-color: var(--fill-color);\n",
              "    }\n",
              "    40% {\n",
              "      border-color: transparent;\n",
              "      border-right-color: var(--fill-color);\n",
              "      border-top-color: var(--fill-color);\n",
              "    }\n",
              "    60% {\n",
              "      border-color: transparent;\n",
              "      border-right-color: var(--fill-color);\n",
              "    }\n",
              "    80% {\n",
              "      border-color: transparent;\n",
              "      border-right-color: var(--fill-color);\n",
              "      border-bottom-color: var(--fill-color);\n",
              "    }\n",
              "    90% {\n",
              "      border-color: transparent;\n",
              "      border-bottom-color: var(--fill-color);\n",
              "    }\n",
              "  }\n",
              "</style>\n",
              "\n",
              "  <script>\n",
              "    async function quickchart(key) {\n",
              "      const quickchartButtonEl =\n",
              "        document.querySelector('#' + key + ' button');\n",
              "      quickchartButtonEl.disabled = true;  // To prevent multiple clicks.\n",
              "      quickchartButtonEl.classList.add('colab-df-spinner');\n",
              "      try {\n",
              "        const charts = await google.colab.kernel.invokeFunction(\n",
              "            'suggestCharts', [key], {});\n",
              "      } catch (error) {\n",
              "        console.error('Error during call to suggestCharts:', error);\n",
              "      }\n",
              "      quickchartButtonEl.classList.remove('colab-df-spinner');\n",
              "      quickchartButtonEl.classList.add('colab-df-quickchart-complete');\n",
              "    }\n",
              "    (() => {\n",
              "      let quickchartButtonEl =\n",
              "        document.querySelector('#df-3db4cef3-0c74-400e-ae8e-966e02756084 button');\n",
              "      quickchartButtonEl.style.display =\n",
              "        google.colab.kernel.accessAllowed ? 'block' : 'none';\n",
              "    })();\n",
              "  </script>\n",
              "</div>\n",
              "\n",
              "  <div id=\"id_ad4730cc-9ea9-4c58-97f3-0ef50e6d7f47\">\n",
              "    <style>\n",
              "      .colab-df-generate {\n",
              "        background-color: #E8F0FE;\n",
              "        border: none;\n",
              "        border-radius: 50%;\n",
              "        cursor: pointer;\n",
              "        display: none;\n",
              "        fill: #1967D2;\n",
              "        height: 32px;\n",
              "        padding: 0 0 0 0;\n",
              "        width: 32px;\n",
              "      }\n",
              "\n",
              "      .colab-df-generate:hover {\n",
              "        background-color: #E2EBFA;\n",
              "        box-shadow: 0px 1px 2px rgba(60, 64, 67, 0.3), 0px 1px 3px 1px rgba(60, 64, 67, 0.15);\n",
              "        fill: #174EA6;\n",
              "      }\n",
              "\n",
              "      [theme=dark] .colab-df-generate {\n",
              "        background-color: #3B4455;\n",
              "        fill: #D2E3FC;\n",
              "      }\n",
              "\n",
              "      [theme=dark] .colab-df-generate:hover {\n",
              "        background-color: #434B5C;\n",
              "        box-shadow: 0px 1px 3px 1px rgba(0, 0, 0, 0.15);\n",
              "        filter: drop-shadow(0px 1px 2px rgba(0, 0, 0, 0.3));\n",
              "        fill: #FFFFFF;\n",
              "      }\n",
              "    </style>\n",
              "    <button class=\"colab-df-generate\" onclick=\"generateWithVariable('df_test')\"\n",
              "            title=\"Generate code using this dataframe.\"\n",
              "            style=\"display:none;\">\n",
              "\n",
              "  <svg xmlns=\"http://www.w3.org/2000/svg\" height=\"24px\"viewBox=\"0 0 24 24\"\n",
              "       width=\"24px\">\n",
              "    <path d=\"M7,19H8.4L18.45,9,17,7.55,7,17.6ZM5,21V16.75L18.45,3.32a2,2,0,0,1,2.83,0l1.4,1.43a1.91,1.91,0,0,1,.58,1.4,1.91,1.91,0,0,1-.58,1.4L9.25,21ZM18.45,9,17,7.55Zm-12,3A5.31,5.31,0,0,0,4.9,8.1,5.31,5.31,0,0,0,1,6.5,5.31,5.31,0,0,0,4.9,4.9,5.31,5.31,0,0,0,6.5,1,5.31,5.31,0,0,0,8.1,4.9,5.31,5.31,0,0,0,12,6.5,5.46,5.46,0,0,0,6.5,12Z\"/>\n",
              "  </svg>\n",
              "    </button>\n",
              "    <script>\n",
              "      (() => {\n",
              "      const buttonEl =\n",
              "        document.querySelector('#id_ad4730cc-9ea9-4c58-97f3-0ef50e6d7f47 button.colab-df-generate');\n",
              "      buttonEl.style.display =\n",
              "        google.colab.kernel.accessAllowed ? 'block' : 'none';\n",
              "\n",
              "      buttonEl.onclick = () => {\n",
              "        google.colab.notebook.generateWithVariable('df_test');\n",
              "      }\n",
              "      })();\n",
              "    </script>\n",
              "  </div>\n",
              "\n",
              "    </div>\n",
              "  </div>\n"
            ],
            "application/vnd.google.colaboratory.intrinsic+json": {
              "type": "dataframe",
              "variable_name": "df_test",
              "summary": "{\n  \"name\": \"df_test\",\n  \"rows\": 10000,\n  \"fields\": [\n    {\n      \"column\": \"temp\",\n      \"properties\": {\n        \"dtype\": \"number\",\n        \"std\": 8.026378278955217,\n        \"min\": 265.091,\n        \"max\": 315.54,\n        \"num_unique_values\": 4043,\n        \"samples\": [\n          289.615,\n          292.59,\n          304.03\n        ],\n        \"semantic_type\": \"\",\n        \"description\": \"\"\n      }\n    },\n    {\n      \"column\": \"temp_min\",\n      \"properties\": {\n        \"dtype\": \"number\",\n        \"std\": 7.904175039359336,\n        \"min\": 265.091,\n        \"max\": 315.15,\n        \"num_unique_values\": 2130,\n        \"samples\": [\n          290.45,\n          279.008,\n          286.556\n        ],\n        \"semantic_type\": \"\",\n        \"description\": \"\"\n      }\n    },\n    {\n      \"column\": \"temp_max\",\n      \"properties\": {\n        \"dtype\": \"number\",\n        \"std\": 8.666877392656668,\n        \"min\": 265.091,\n        \"max\": 321.15,\n        \"num_unique_values\": 2119,\n        \"samples\": [\n          284.8135,\n          287.9666875,\n          286.43034375\n        ],\n        \"semantic_type\": \"\",\n        \"description\": \"\"\n      }\n    },\n    {\n      \"column\": \"pressure\",\n      \"properties\": {\n        \"dtype\": \"number\",\n        \"std\": 1414,\n        \"min\": 594,\n        \"max\": 101983,\n        \"num_unique_values\": 130,\n        \"samples\": [\n          965,\n          991,\n          1023\n        ],\n        \"semantic_type\": \"\",\n        \"description\": \"\"\n      }\n    },\n    {\n      \"column\": \"humidity\",\n      \"properties\": {\n        \"dtype\": \"number\",\n        \"std\": 21,\n        \"min\": 0,\n        \"max\": 100,\n        \"num_unique_values\": 93,\n        \"samples\": [\n          49,\n          25,\n          97\n        ],\n        \"semantic_type\": \"\",\n        \"description\": \"\"\n      }\n    },\n    {\n      \"column\": \"wind_speed\",\n      \"properties\": {\n        \"dtype\": \"number\",\n        \"std\": 2,\n        \"min\": 0,\n        \"max\": 25,\n        \"num_unique_values\": 19,\n        \"samples\": [\n          2,\n          1,\n          9\n        ],\n        \"semantic_type\": \"\",\n        \"description\": \"\"\n      }\n    },\n    {\n      \"column\": \"wind_deg\",\n      \"properties\": {\n        \"dtype\": \"number\",\n        \"std\": 116,\n        \"min\": 0,\n        \"max\": 360,\n        \"num_unique_values\": 361,\n        \"samples\": [\n          141,\n          40,\n          340\n        ],\n        \"semantic_type\": \"\",\n        \"description\": \"\"\n      }\n    },\n    {\n      \"column\": \"rain_1h\",\n      \"properties\": {\n        \"dtype\": \"number\",\n        \"std\": 0.35981585449354575,\n        \"min\": 0.0,\n        \"max\": 12.0,\n        \"num_unique_values\": 5,\n        \"samples\": [\n          0.3,\n          12.0,\n          0.9\n        ],\n        \"semantic_type\": \"\",\n        \"description\": \"\"\n      }\n    },\n    {\n      \"column\": \"rain_3h\",\n      \"properties\": {\n        \"dtype\": \"number\",\n        \"std\": 0.0046900543428060795,\n        \"min\": 0.0,\n        \"max\": 0.1,\n        \"num_unique_values\": 43,\n        \"samples\": [\n          0.027,\n          0.037,\n          0.0069999999999999\n        ],\n        \"semantic_type\": \"\",\n        \"description\": \"\"\n      }\n    },\n    {\n      \"column\": \"snow_3h\",\n      \"properties\": {\n        \"dtype\": \"number\",\n        \"std\": 0.22288836843029075,\n        \"min\": 0.0,\n        \"max\": 17.0,\n        \"num_unique_values\": 14,\n        \"samples\": [\n          2.7,\n          7.0,\n          0.0\n        ],\n        \"semantic_type\": \"\",\n        \"description\": \"\"\n      }\n    },\n    {\n      \"column\": \"weather_main\",\n      \"properties\": {\n        \"dtype\": \"category\",\n        \"num_unique_values\": 3,\n        \"samples\": [\n          \"clear\",\n          \"clouds\",\n          \"rain\"\n        ],\n        \"semantic_type\": \"\",\n        \"description\": \"\"\n      }\n    }\n  ]\n}"
            }
          },
          "metadata": {},
          "execution_count": 93
        }
      ]
    },
    {
      "cell_type": "code",
      "source": [
        "from sklearn.linear_model import LinearRegression\n",
        "reg = LinearRegression()\n",
        "pipe = Pipeline(steps = [('union', union),\n",
        "                         ('reg', reg)])\n",
        "df_train['weather_main'] = df_train['weather_main'].map(dict)\n",
        "pipe.fit(X_train, y_train)\n",
        "pred = pipe.predict(X_test)\n",
        "print(accuracy_score(y_test, np.round(pred,0)))"
      ],
      "metadata": {
        "colab": {
          "base_uri": "https://localhost:8080/"
        },
        "id": "UX1ujNvkvv94",
        "outputId": "8a9a5e9c-899b-428f-a32a-af915a1b406d"
      },
      "execution_count": null,
      "outputs": [
        {
          "output_type": "stream",
          "name": "stdout",
          "text": [
            "0.5114638447971781\n"
          ]
        }
      ]
    },
    {
      "cell_type": "code",
      "source": [
        "y_train.value_counts()"
      ],
      "metadata": {
        "colab": {
          "base_uri": "https://localhost:8080/",
          "height": 210
        },
        "id": "tBz2u63r3F0m",
        "outputId": "58b87601-7919-4179-8674-c4ecc88cb82b"
      },
      "execution_count": null,
      "outputs": [
        {
          "output_type": "execute_result",
          "data": {
            "text/plain": [
              "weather_main\n",
              "1    52071\n",
              "0    42955\n",
              "2    10880\n",
              "Name: count, dtype: int64"
            ],
            "text/html": [
              "<div>\n",
              "<style scoped>\n",
              "    .dataframe tbody tr th:only-of-type {\n",
              "        vertical-align: middle;\n",
              "    }\n",
              "\n",
              "    .dataframe tbody tr th {\n",
              "        vertical-align: top;\n",
              "    }\n",
              "\n",
              "    .dataframe thead th {\n",
              "        text-align: right;\n",
              "    }\n",
              "</style>\n",
              "<table border=\"1\" class=\"dataframe\">\n",
              "  <thead>\n",
              "    <tr style=\"text-align: right;\">\n",
              "      <th></th>\n",
              "      <th>count</th>\n",
              "    </tr>\n",
              "    <tr>\n",
              "      <th>weather_main</th>\n",
              "      <th></th>\n",
              "    </tr>\n",
              "  </thead>\n",
              "  <tbody>\n",
              "    <tr>\n",
              "      <th>1</th>\n",
              "      <td>52071</td>\n",
              "    </tr>\n",
              "    <tr>\n",
              "      <th>0</th>\n",
              "      <td>42955</td>\n",
              "    </tr>\n",
              "    <tr>\n",
              "      <th>2</th>\n",
              "      <td>10880</td>\n",
              "    </tr>\n",
              "  </tbody>\n",
              "</table>\n",
              "</div><br><label><b>dtype:</b> int64</label>"
            ]
          },
          "metadata": {},
          "execution_count": 111
        }
      ]
    },
    {
      "cell_type": "code",
      "source": [
        "pred"
      ],
      "metadata": {
        "colab": {
          "base_uri": "https://localhost:8080/"
        },
        "id": "18C_XFi_3PA_",
        "outputId": "04871665-e5b5-414e-a3e1-3ad32f1038e3"
      },
      "execution_count": null,
      "outputs": [
        {
          "output_type": "execute_result",
          "data": {
            "text/plain": [
              "array([0.60463207, 0.71837519, 0.72539152, ..., 0.72485573, 1.46263297,\n",
              "       0.56729768])"
            ]
          },
          "metadata": {},
          "execution_count": 113
        }
      ]
    },
    {
      "cell_type": "code",
      "source": [],
      "metadata": {
        "id": "KNX82YBZJEP-"
      },
      "execution_count": null,
      "outputs": []
    }
  ]
}